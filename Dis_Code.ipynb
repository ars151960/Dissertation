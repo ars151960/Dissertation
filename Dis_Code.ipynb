{
 "cells": [
  {
   "cell_type": "markdown",
   "id": "acb1e107-83f2-42be-8de9-80a12261dba8",
   "metadata": {},
   "source": [
    "# 1.Importing all the required Libraries "
   ]
  },
  {
   "cell_type": "code",
   "execution_count": 1,
   "id": "4bd87803-7613-4b4b-ae95-589d31436723",
   "metadata": {
    "tags": []
   },
   "outputs": [],
   "source": [
    "import numpy as np\n",
    "import pandas as pd\n",
    "import matplotlib.pyplot as plt\n",
    "import seaborn as sns"
   ]
  },
  {
   "cell_type": "code",
   "execution_count": 2,
   "id": "84383ad5-e69c-4816-a678-3145dccaa357",
   "metadata": {
    "tags": []
   },
   "outputs": [],
   "source": [
    "# preprocessing\n",
    "import sklearn\n",
    "from sklearn.preprocessing import LabelEncoder\n",
    "from sklearn.model_selection import train_test_split,GridSearchCV\n",
    "import warnings\n",
    "warnings.filterwarnings('ignore')"
   ]
  },
  {
   "cell_type": "markdown",
   "id": "1d4807c8-6bba-48dc-9baa-464d72c226ac",
   "metadata": {},
   "source": [
    "# 2.Loading the Dataset"
   ]
  },
  {
   "cell_type": "code",
   "execution_count": 3,
   "id": "eb800ddf-e592-4688-80de-86dedd0db4ad",
   "metadata": {
    "tags": []
   },
   "outputs": [
    {
     "data": {
      "text/html": [
       "<div>\n",
       "<style scoped>\n",
       "    .dataframe tbody tr th:only-of-type {\n",
       "        vertical-align: middle;\n",
       "    }\n",
       "\n",
       "    .dataframe tbody tr th {\n",
       "        vertical-align: top;\n",
       "    }\n",
       "\n",
       "    .dataframe thead th {\n",
       "        text-align: right;\n",
       "    }\n",
       "</style>\n",
       "<table border=\"1\" class=\"dataframe\">\n",
       "  <thead>\n",
       "    <tr style=\"text-align: right;\">\n",
       "      <th></th>\n",
       "      <th>HeartDisease</th>\n",
       "      <th>BMI</th>\n",
       "      <th>Smoking</th>\n",
       "      <th>AlcoholDrinking</th>\n",
       "      <th>Stroke</th>\n",
       "      <th>PhysicalHealth</th>\n",
       "      <th>MentalHealth</th>\n",
       "      <th>DiffWalking</th>\n",
       "      <th>Sex</th>\n",
       "      <th>AgeCategory</th>\n",
       "      <th>Race</th>\n",
       "      <th>Diabetic</th>\n",
       "      <th>PhysicalActivity</th>\n",
       "      <th>GenHealth</th>\n",
       "      <th>SleepTime</th>\n",
       "      <th>Asthma</th>\n",
       "      <th>KidneyDisease</th>\n",
       "      <th>SkinCancer</th>\n",
       "    </tr>\n",
       "  </thead>\n",
       "  <tbody>\n",
       "    <tr>\n",
       "      <th>0</th>\n",
       "      <td>No</td>\n",
       "      <td>16.60</td>\n",
       "      <td>Yes</td>\n",
       "      <td>No</td>\n",
       "      <td>No</td>\n",
       "      <td>3.0</td>\n",
       "      <td>30.0</td>\n",
       "      <td>No</td>\n",
       "      <td>Female</td>\n",
       "      <td>55-59</td>\n",
       "      <td>White</td>\n",
       "      <td>Yes</td>\n",
       "      <td>Yes</td>\n",
       "      <td>Very good</td>\n",
       "      <td>5.0</td>\n",
       "      <td>Yes</td>\n",
       "      <td>No</td>\n",
       "      <td>Yes</td>\n",
       "    </tr>\n",
       "    <tr>\n",
       "      <th>1</th>\n",
       "      <td>No</td>\n",
       "      <td>20.34</td>\n",
       "      <td>No</td>\n",
       "      <td>No</td>\n",
       "      <td>Yes</td>\n",
       "      <td>0.0</td>\n",
       "      <td>0.0</td>\n",
       "      <td>No</td>\n",
       "      <td>Female</td>\n",
       "      <td>80 or older</td>\n",
       "      <td>White</td>\n",
       "      <td>No</td>\n",
       "      <td>Yes</td>\n",
       "      <td>Very good</td>\n",
       "      <td>7.0</td>\n",
       "      <td>No</td>\n",
       "      <td>No</td>\n",
       "      <td>No</td>\n",
       "    </tr>\n",
       "    <tr>\n",
       "      <th>2</th>\n",
       "      <td>No</td>\n",
       "      <td>26.58</td>\n",
       "      <td>Yes</td>\n",
       "      <td>No</td>\n",
       "      <td>No</td>\n",
       "      <td>20.0</td>\n",
       "      <td>30.0</td>\n",
       "      <td>No</td>\n",
       "      <td>Male</td>\n",
       "      <td>65-69</td>\n",
       "      <td>White</td>\n",
       "      <td>Yes</td>\n",
       "      <td>Yes</td>\n",
       "      <td>Fair</td>\n",
       "      <td>8.0</td>\n",
       "      <td>Yes</td>\n",
       "      <td>No</td>\n",
       "      <td>No</td>\n",
       "    </tr>\n",
       "    <tr>\n",
       "      <th>3</th>\n",
       "      <td>No</td>\n",
       "      <td>24.21</td>\n",
       "      <td>No</td>\n",
       "      <td>No</td>\n",
       "      <td>No</td>\n",
       "      <td>0.0</td>\n",
       "      <td>0.0</td>\n",
       "      <td>No</td>\n",
       "      <td>Female</td>\n",
       "      <td>75-79</td>\n",
       "      <td>White</td>\n",
       "      <td>No</td>\n",
       "      <td>No</td>\n",
       "      <td>Good</td>\n",
       "      <td>6.0</td>\n",
       "      <td>No</td>\n",
       "      <td>No</td>\n",
       "      <td>Yes</td>\n",
       "    </tr>\n",
       "    <tr>\n",
       "      <th>4</th>\n",
       "      <td>No</td>\n",
       "      <td>23.71</td>\n",
       "      <td>No</td>\n",
       "      <td>No</td>\n",
       "      <td>No</td>\n",
       "      <td>28.0</td>\n",
       "      <td>0.0</td>\n",
       "      <td>Yes</td>\n",
       "      <td>Female</td>\n",
       "      <td>40-44</td>\n",
       "      <td>White</td>\n",
       "      <td>No</td>\n",
       "      <td>Yes</td>\n",
       "      <td>Very good</td>\n",
       "      <td>8.0</td>\n",
       "      <td>No</td>\n",
       "      <td>No</td>\n",
       "      <td>No</td>\n",
       "    </tr>\n",
       "  </tbody>\n",
       "</table>\n",
       "</div>"
      ],
      "text/plain": [
       "  HeartDisease    BMI Smoking AlcoholDrinking Stroke  PhysicalHealth  \\\n",
       "0           No  16.60     Yes              No     No             3.0   \n",
       "1           No  20.34      No              No    Yes             0.0   \n",
       "2           No  26.58     Yes              No     No            20.0   \n",
       "3           No  24.21      No              No     No             0.0   \n",
       "4           No  23.71      No              No     No            28.0   \n",
       "\n",
       "   MentalHealth DiffWalking     Sex  AgeCategory   Race Diabetic  \\\n",
       "0          30.0          No  Female        55-59  White      Yes   \n",
       "1           0.0          No  Female  80 or older  White       No   \n",
       "2          30.0          No    Male        65-69  White      Yes   \n",
       "3           0.0          No  Female        75-79  White       No   \n",
       "4           0.0         Yes  Female        40-44  White       No   \n",
       "\n",
       "  PhysicalActivity  GenHealth  SleepTime Asthma KidneyDisease SkinCancer  \n",
       "0              Yes  Very good        5.0    Yes            No        Yes  \n",
       "1              Yes  Very good        7.0     No            No         No  \n",
       "2              Yes       Fair        8.0    Yes            No         No  \n",
       "3               No       Good        6.0     No            No        Yes  \n",
       "4              Yes  Very good        8.0     No            No         No  "
      ]
     },
     "execution_count": 3,
     "metadata": {},
     "output_type": "execute_result"
    }
   ],
   "source": [
    "df=pd.read_csv('/Users/ankitrajsingh/Desktop/Dissertation/heart.csv')\n",
    "df.head()"
   ]
  },
  {
   "cell_type": "markdown",
   "id": "5ecdae91-56c2-4036-9235-eadd1961bf62",
   "metadata": {
    "tags": []
   },
   "source": [
    "# 3.Understanding the data"
   ]
  },
  {
   "cell_type": "code",
   "execution_count": 4,
   "id": "c123e848-475b-4d3a-a2c8-c15332de572c",
   "metadata": {
    "tags": []
   },
   "outputs": [
    {
     "name": "stdout",
     "output_type": "stream",
     "text": [
      "Column Name: HeartDisease\n",
      "Unique Values: ['No' 'Yes']\n",
      "-----------------------\n",
      "Column Name: BMI\n",
      "Unique Values: [16.6  20.34 26.58 ... 62.42 51.46 46.56]\n",
      "-----------------------\n",
      "Column Name: Smoking\n",
      "Unique Values: ['Yes' 'No']\n",
      "-----------------------\n",
      "Column Name: AlcoholDrinking\n",
      "Unique Values: ['No' 'Yes']\n",
      "-----------------------\n",
      "Column Name: Stroke\n",
      "Unique Values: ['No' 'Yes']\n",
      "-----------------------\n",
      "Column Name: PhysicalHealth\n",
      "Unique Values: [ 3.  0. 20. 28.  6. 15.  5. 30.  7.  1.  2. 21.  4. 10. 14. 18.  8. 25.\n",
      " 16. 29. 27. 17. 24. 12. 23. 26. 22. 19.  9. 13. 11.]\n",
      "-----------------------\n",
      "Column Name: MentalHealth\n",
      "Unique Values: [30.  0.  2.  5. 15.  8.  4.  3. 10. 14. 20.  1.  7. 24.  9. 28. 16. 12.\n",
      "  6. 25. 17. 18. 21. 29. 22. 13. 23. 27. 26. 11. 19.]\n",
      "-----------------------\n",
      "Column Name: DiffWalking\n",
      "Unique Values: ['No' 'Yes']\n",
      "-----------------------\n",
      "Column Name: Sex\n",
      "Unique Values: ['Female' 'Male']\n",
      "-----------------------\n",
      "Column Name: AgeCategory\n",
      "Unique Values: ['55-59' '80 or older' '65-69' '75-79' '40-44' '70-74' '60-64' '50-54'\n",
      " '45-49' '18-24' '35-39' '30-34' '25-29']\n",
      "-----------------------\n",
      "Column Name: Race\n",
      "Unique Values: ['White' 'Black' 'Asian' 'American Indian/Alaskan Native' 'Other'\n",
      " 'Hispanic']\n",
      "-----------------------\n",
      "Column Name: Diabetic\n",
      "Unique Values: ['Yes' 'No' 'No, borderline diabetes' 'Yes (during pregnancy)']\n",
      "-----------------------\n",
      "Column Name: PhysicalActivity\n",
      "Unique Values: ['Yes' 'No']\n",
      "-----------------------\n",
      "Column Name: GenHealth\n",
      "Unique Values: ['Very good' 'Fair' 'Good' 'Poor' 'Excellent']\n",
      "-----------------------\n",
      "Column Name: SleepTime\n",
      "Unique Values: [ 5.  7.  8.  6. 12.  4.  9. 10. 15.  3.  2.  1. 16. 18. 14. 20. 11. 13.\n",
      " 17. 24. 19. 21. 22. 23.]\n",
      "-----------------------\n",
      "Column Name: Asthma\n",
      "Unique Values: ['Yes' 'No']\n",
      "-----------------------\n",
      "Column Name: KidneyDisease\n",
      "Unique Values: ['No' 'Yes']\n",
      "-----------------------\n",
      "Column Name: SkinCancer\n",
      "Unique Values: ['Yes' 'No']\n",
      "-----------------------\n"
     ]
    }
   ],
   "source": [
    "# Retrieve all labels and store in a list\n",
    "columns_df = list(df.columns.values)\n",
    "\n",
    "# Iterate over the list to print all unique values of each column in the DataFrame\n",
    "for column in columns_df:\n",
    "    print(\"Column Name:\", column)\n",
    "    print(\"Unique Values:\", df[column].unique())\n",
    "    print(\"-----------------------\")\n",
    "    "
   ]
  },
  {
   "cell_type": "code",
   "execution_count": 5,
   "id": "c03e1114-206e-4ee9-ae47-234491e6277d",
   "metadata": {
    "tags": []
   },
   "outputs": [
    {
     "name": "stdout",
     "output_type": "stream",
     "text": [
      "18078\n"
     ]
    }
   ],
   "source": [
    "duplicate_sum = df.duplicated().sum()\n",
    "print(duplicate_sum)"
   ]
  },
  {
   "cell_type": "code",
   "execution_count": null,
   "id": "47daef51-3618-4c76-9994-913d94783d27",
   "metadata": {
    "tags": []
   },
   "outputs": [],
   "source": [
    "df.drop_duplicates(inplace=True)"
   ]
  },
  {
   "cell_type": "code",
   "execution_count": null,
   "id": "9fa3c9f2-2e25-4cce-ba75-c2784537cff7",
   "metadata": {
    "tags": []
   },
   "outputs": [],
   "source": [
    "# list of numerical features\n",
    "numeric_features = df.select_dtypes(include=[np.number])\n",
    "numeric_features.columns"
   ]
  },
  {
   "cell_type": "code",
   "execution_count": null,
   "id": "187c0207-6db2-47a5-9c88-845b8d113b07",
   "metadata": {},
   "outputs": [],
   "source": [
    "# list of categorical features\n",
    "categorical_features = df.select_dtypes(include=[object])\n",
    "categorical_features.columns"
   ]
  },
  {
   "cell_type": "markdown",
   "id": "a4d2809b-36cf-4335-b861-42d33a0733da",
   "metadata": {},
   "source": [
    "## 3.1 Descriptive Statistic"
   ]
  },
  {
   "cell_type": "code",
   "execution_count": null,
   "id": "9a8cee57-c0e5-4457-b8f0-2310b53b8657",
   "metadata": {
    "tags": []
   },
   "outputs": [],
   "source": [
    "# Generate descriptive statistics\n",
    "df.describe()[1:][list(numeric_features)].T.style.background_gradient(cmap='Blues')"
   ]
  },
  {
   "cell_type": "markdown",
   "id": "ab09fa34-1853-4db1-a23c-14bfadd7bca3",
   "metadata": {},
   "source": [
    "Looking at the data, we see that the average BMI is about 28.33, but it can be as low as 12.02 or as high as 94.85. People's BMIs vary quite a bit. On average, the score for PhysicalHealth is about 3.37 out of 30, but this varies a lot too. MentalHealth scores, like PhysicalHealth, have a lot of variation with an average score close to 3.90 out of 30. Lastly, people usually sleep about 7.1 hours, but this can be as short as 1 hour or as long as a full day.\""
   ]
  },
  {
   "cell_type": "markdown",
   "id": "507149c4-552f-4384-ab17-8e4ac074a56f",
   "metadata": {
    "tags": []
   },
   "source": [
    "# 4.EDA"
   ]
  },
  {
   "cell_type": "markdown",
   "id": "ec47a359-c12f-4ae8-965f-e85cee36bc52",
   "metadata": {
    "tags": []
   },
   "source": [
    "## 4.1 Univariate Analysis\n",
    "\n",
    "The purpose of univariate analysis to examine the details of each feature in the dataset and find the patterns, which will be valuable form further analysis of the dataset.\n"
   ]
  },
  {
   "cell_type": "code",
   "execution_count": null,
   "id": "5350ec32-63aa-4d42-a017-a3d4d15af741",
   "metadata": {
    "tags": []
   },
   "outputs": [],
   "source": [
    "import plotly.express as px\n",
    "\n",
    "# Counting the values for HeartDisease\n",
    "heart_disease_counts = df['HeartDisease'].value_counts()\n",
    "\n",
    "# Creating an interactive pie chart using plotly\n",
    "fig = px.pie(heart_disease_counts, values=heart_disease_counts.values, \n",
    "             names=['No HeartDisease', 'HeartDisease'], \n",
    "             title='Distribution of HeartDisease', \n",
    "             color_discrete_sequence=['green', 'red']) # Updated colors here\n",
    "\n",
    "# Adding percentage and actual count to the pie chart\n",
    "fig.update_traces(textinfo='percent+label+value')\n",
    "\n",
    "fig.show()\n"
   ]
  },
  {
   "cell_type": "markdown",
   "id": "5943207f-8b34-4be5-a300-8f2961ac9af1",
   "metadata": {},
   "source": [
    "We can see that the number of people with and without \"HeartDisease\" isn't even."
   ]
  },
  {
   "cell_type": "code",
   "execution_count": null,
   "id": "0687904b-99bd-4b54-9c68-a4ff14823be9",
   "metadata": {
    "tags": []
   },
   "outputs": [],
   "source": [
    "# Variables to plot\n",
    "variables = ['BMI', 'PhysicalHealth', 'MentalHealth', 'SleepTime']\n",
    "\n",
    "# Initialize the figure\n",
    "fig, axes = plt.subplots(len(variables), 1, figsize=(10, 5 * len(variables)))\n",
    "\n",
    "# Generate the plots\n",
    "for var, ax in zip(variables, axes):\n",
    "    for label in df['HeartDisease'].unique():\n",
    "        sns.kdeplot(df[df['HeartDisease'] == label][var], ax=ax, shade=True, label=label)\n",
    "    ax.set_title(f'KDE for {var}')\n",
    "    ax.set_xlim(df[var].min(), df[var].max())\n",
    "    ax.legend(title='HeartDisease')\n",
    "\n",
    "plt.tight_layout()\n",
    "plt.show()\n"
   ]
  },
  {
   "cell_type": "markdown",
   "id": "b9cb5338-442a-4fe9-8654-e227fe350b61",
   "metadata": {},
   "source": [
    "From the KDE plots, we can infer that people with heart disease tend to have higher BMI values, suggesting that being heavier might increase heart disease risk. For PhysicalHealth and MentalHealth, it's hard to tell any difference between people with and without heart disease, meaning these factors might not tell us much about heart disease risk. However, when it comes to sleep, people with heart disease seem to sleep less, hinting that not getting enough sleep might be linked to a higher chance of having heart disease."
   ]
  },
  {
   "cell_type": "code",
   "execution_count": null,
   "id": "10f02ce8-2aa9-4c78-9b06-e43fb0b2677d",
   "metadata": {
    "tags": []
   },
   "outputs": [],
   "source": [
    "# Correlation matrix to see relationships between variables\n",
    "plt.figure(figsize=(10, 8))\n",
    "sns.heatmap(df.corr(), annot=True, fmt=\".2f\", cmap='coolwarm')\n",
    "plt.title('Correlation Matrix')\n",
    "plt.show()"
   ]
  },
  {
   "cell_type": "markdown",
   "id": "0a691374-713b-43d0-b328-dec5e189b751",
   "metadata": {},
   "source": [
    "The heatmap between all pairs of numerical features shows that the correlation between 'HeartDisease' and other features is relatively low,pointing that no single numerical feature strongly predicts heart disease on its own."
   ]
  },
  {
   "cell_type": "code",
   "execution_count": null,
   "id": "507f3eb2-0db6-4675-b8ba-83ba49d675d4",
   "metadata": {
    "tags": []
   },
   "outputs": [],
   "source": [
    "# Importing required libraries for visualization\n",
    "import matplotlib.pyplot as plt\n",
    "import seaborn as sns\n",
    "\n",
    "# Visualizing the categorical features using count plots\n",
    "plt.figure(figsize=(25, 15))\n",
    "i = 1\n",
    "\n",
    "for feature in categorical_features:\n",
    "    plt.subplot(3, 5, i)\n",
    "    sns.set(palette='Paired')\n",
    "    sns.set_style(\"ticks\")\n",
    "    ax = sns.countplot(x=feature, data=df)\n",
    "    ax.set_xticklabels(ax.get_xticklabels(), rotation=45, ha=\"right\")\n",
    "    i += 1\n",
    "\n",
    "plt.tight_layout()\n",
    "plt.show()\n"
   ]
  },
  {
   "cell_type": "markdown",
   "id": "fec7c93f-9a46-4b3e-9dbe-4d66c6ac5cf0",
   "metadata": {},
   "source": [
    "The graph primarily focuses on heart disease, with an imbalanced distribution between those with and without the heart disease. Many people don't smoke or drink alcohol, and most haven't experienced a stroke, asthma, kidney disease, or skin cancer. There's an even split between male and female participants. Also, the plots depicts a variety of age groups and races, with one race(white) being more dominant. While most are not diabetic and engage in physical activities, a few have difficulties walking. Their general health and sleep patterns vary, with most having typical 7 hours sleep durations."
   ]
  },
  {
   "cell_type": "markdown",
   "id": "33a87eb0-c033-4f8c-9c44-49f6b085a1a7",
   "metadata": {
    "tags": []
   },
   "source": [
    "## 4.2 Bivariate visualization"
   ]
  },
  {
   "cell_type": "code",
   "execution_count": null,
   "id": "dec16961-25c3-4116-bbba-558996d76c2e",
   "metadata": {
    "tags": []
   },
   "outputs": [],
   "source": [
    "import plotly.express as px\n",
    "\n",
    "def categorical_feature_func():\n",
    "    figs = []\n",
    "    for feature in categorical_features:\n",
    "        fig = px.histogram(df, x=feature, color=\"HeartDisease\", title=feature, barmode=\"group\")\n",
    "        figs.append(fig)\n",
    "    return figs\n",
    "\n",
    "# To display the plots:\n",
    "for fig in categorical_feature_func():\n",
    "    fig.show()\n"
   ]
  },
  {
   "cell_type": "markdown",
   "id": "10e2667e-08f5-4173-a3e5-d16e12c4075f",
   "metadata": {},
   "source": [
    "The plots show how different groups of people, based on things like smoking or age, have heart disease. Both smokers and people who don't smoke have more people without heart disease, but surprisingly, people who don't smoke seem to have a slightly higher chance of heart disease. This is similar for people who drink alcohol and those who don't. People who've had a stroke are more likely to have heart disease. Men seem to have a slightly higher chance of heart disease than women. Older people are more likely to have heart disease. Different races have slightly different chances of heart disease. People with diabetes or who are less physically active, or in poorer general health, seem to have a higher chance of heart disease. Overall, in every group, more people don't have heart disease than those who do."
   ]
  },
  {
   "cell_type": "markdown",
   "id": "28ba13e0-0eb1-4849-82a6-cd18eb36a3c7",
   "metadata": {},
   "source": [
    "# 5.Feature Engineering\n",
    "\n",
    "Here we will create new features from the existing ones or modifiy the current features as per the requirement of analysis.\n"
   ]
  },
  {
   "cell_type": "markdown",
   "id": "af424bb6-be62-4fdf-ae87-5bf759d51b24",
   "metadata": {
    "tags": []
   },
   "source": [
    "## 5.1 Label Encoding"
   ]
  },
  {
   "cell_type": "code",
   "execution_count": null,
   "id": "c82bf98f-21ac-43f7-bed7-4e7d6afa1fc5",
   "metadata": {
    "tags": []
   },
   "outputs": [],
   "source": [
    "from sklearn.compose import ColumnTransformer\n",
    "from sklearn.preprocessing import OneHotEncoder\n",
    "from sklearn.metrics import r2_score,mean_absolute_error,accuracy_score"
   ]
  },
  {
   "cell_type": "code",
   "execution_count": null,
   "id": "774e5056-ea19-4331-bfb4-031c56833625",
   "metadata": {
    "tags": []
   },
   "outputs": [],
   "source": [
    "from sklearn.preprocessing import LabelEncoder\n"
   ]
  },
  {
   "cell_type": "code",
   "execution_count": null,
   "id": "8f8cb111-9b39-4f16-96bd-de3a1a03f41a",
   "metadata": {
    "tags": []
   },
   "outputs": [],
   "source": [
    "le=LabelEncoder()"
   ]
  },
  {
   "cell_type": "code",
   "execution_count": null,
   "id": "b6ef3b2d-c6f3-4469-b3ea-543fed2d7620",
   "metadata": {
    "tags": []
   },
   "outputs": [],
   "source": [
    "list=['HeartDisease','Smoking', 'AlcoholDrinking', 'Stroke','DiffWalking', 'Sex', 'AgeCategory',\n",
    "       'Race', 'Diabetic', 'PhysicalActivity', 'GenHealth', 'Asthma', 'KidneyDisease', 'SkinCancer']\n",
    "for i in list:\n",
    "    df[i]=le.fit_transform(df[i])"
   ]
  },
  {
   "cell_type": "code",
   "execution_count": null,
   "id": "6fbadcbf-e98c-4848-aa5f-f3bfa4948114",
   "metadata": {
    "tags": []
   },
   "outputs": [],
   "source": [
    "# iterate over the list to print all unique values of each column in the dataframe\n",
    "for column in columns_df:\n",
    "    print(\"Column Name:\", column)\n",
    "    print(\"Unique Values:\", df[column].unique())\n",
    "    print(\"-----------------------\")"
   ]
  },
  {
   "cell_type": "markdown",
   "id": "0da20932-3cc8-499c-9962-91ee19070470",
   "metadata": {
    "tags": []
   },
   "source": [
    "## 5.2 Checking for missing value"
   ]
  },
  {
   "cell_type": "code",
   "execution_count": null,
   "id": "dd87c74e-b4c6-498b-9c21-1d88cd6f5f56",
   "metadata": {},
   "outputs": [],
   "source": [
    "df.isnull().sum()"
   ]
  },
  {
   "cell_type": "markdown",
   "id": "abebe2db-ccf3-4f19-847c-3bb035f07e20",
   "metadata": {},
   "source": [
    "There are no missing values in the dataframe"
   ]
  },
  {
   "cell_type": "markdown",
   "id": "834da4da-337e-4c5c-b82f-9b338a59c7bc",
   "metadata": {
    "tags": []
   },
   "source": [
    "## 5.3 Checking and Handling Outliers"
   ]
  },
  {
   "cell_type": "code",
   "execution_count": null,
   "id": "a40e7ed2-cd75-4383-8040-cc8edc49aebb",
   "metadata": {
    "tags": []
   },
   "outputs": [],
   "source": [
    "# Plotting boxplots for each feature to identify outliers\n",
    "def numeric_features_func():\n",
    "    i = 1\n",
    "    plt.figure(figsize=(35, 5))\n",
    "    \n",
    "    for feature in numeric_features.columns:\n",
    "        plt.subplot(1, 5, i)\n",
    "        sns.set(palette='dark')\n",
    "        sns.set_style(\"ticks\")\n",
    "        sns.boxplot(df[feature])\n",
    "        plt.xlabel(feature)\n",
    "        plt.ylabel(\"Value\")\n",
    "        i += 1\n",
    "    plt.show()\n",
    "\n",
    "numeric_features_func()"
   ]
  },
  {
   "cell_type": "code",
   "execution_count": null,
   "id": "0575e6d5-6ba7-4501-9da4-20f9d7bc6162",
   "metadata": {
    "tags": []
   },
   "outputs": [],
   "source": [
    "# Counting the outliers for each numeric variable using the IQR method\n",
    "\n",
    "outliers_count = {}\n",
    "\n",
    "for col in numeric_features.columns:\n",
    "    Q1 = df[col].quantile(0.25)\n",
    "    Q3 = df[col].quantile(0.75)\n",
    "    IQR = Q3 - Q1\n",
    "    lower_bound = Q1 - 1.5 * IQR\n",
    "    upper_bound = Q3 + 1.5 * IQR\n",
    "    \n",
    "    outliers = df[(df[col] < lower_bound) | (df[col] > upper_bound)]\n",
    "    outliers_count[col] = len(outliers)\n",
    "\n",
    "outliers_count\n",
    "\n"
   ]
  },
  {
   "cell_type": "markdown",
   "id": "157852fd-2794-41fc-990d-70b31c3ef03c",
   "metadata": {},
   "source": [
    "PhysicalHealth and  MentalHealth represents health conditions or habits.so, we don't need to address outliers.whereas for BMI and SleepTime the outliers need to be addressed.\n",
    "we'll use the capping method as it's straightforward and doesn't result in a loss of data:\n"
   ]
  },
  {
   "cell_type": "code",
   "execution_count": null,
   "id": "9fea5338-bd4d-46a3-89af-4ff078128a87",
   "metadata": {
    "tags": []
   },
   "outputs": [],
   "source": [
    "# Define a function to cap the outliers\n",
    "def cap_outliers(data, col):\n",
    "    Q1 = data[col].quantile(0.25)\n",
    "    Q3 = data[col].quantile(0.75)\n",
    "    IQR = Q3 - Q1\n",
    "    lower_bound = Q1 - 1.5 * IQR\n",
    "    upper_bound = Q3 + 1.5 * IQR\n",
    "    \n",
    "    data[col] = np.where(data[col] < lower_bound, lower_bound, data[col])\n",
    "    data[col] = np.where(data[col] > upper_bound, upper_bound, data[col])\n",
    "    return data\n",
    "\n",
    "# Treat outliers for BMI and SleepTime\n",
    "df = cap_outliers(df, 'BMI')\n",
    "df = cap_outliers(df, 'SleepTime')\n",
    "\n",
    "# Display updated statistics for BMI and SleepTime\n",
    "df[['BMI', 'SleepTime']].describe()"
   ]
  },
  {
   "cell_type": "markdown",
   "id": "8266785b-1a4b-49df-b464-a64379e983d7",
   "metadata": {},
   "source": [
    "Now, the values now fall within a range that excludes the previously identified outliers."
   ]
  },
  {
   "cell_type": "markdown",
   "id": "4858e78c-2fdd-4f39-be6e-671573398192",
   "metadata": {
    "tags": []
   },
   "source": [
    "## 5.4 Splitting the Data into Features and Target Variable"
   ]
  },
  {
   "cell_type": "code",
   "execution_count": null,
   "id": "4787f84a-1e55-4138-ab7f-d76dc4b1de90",
   "metadata": {
    "tags": []
   },
   "outputs": [],
   "source": [
    "x=df.drop(columns=['HeartDisease'])\n",
    "y=df['HeartDisease']"
   ]
  },
  {
   "cell_type": "code",
   "execution_count": null,
   "id": "60452c34-b082-4c88-9b5e-47f32412f506",
   "metadata": {
    "tags": []
   },
   "outputs": [],
   "source": [
    "x.sample(10)"
   ]
  },
  {
   "cell_type": "markdown",
   "id": "bab3545a-0306-4bec-a169-74c6901bbd3c",
   "metadata": {
    "tags": []
   },
   "source": [
    "## 5.5 Handling Imbalanced Dataset"
   ]
  },
  {
   "cell_type": "code",
   "execution_count": null,
   "id": "f5dcfcfa-5262-432f-9498-e3ac27e5b1ce",
   "metadata": {
    "tags": []
   },
   "outputs": [],
   "source": [
    "from imblearn.under_sampling import NearMiss\n",
    "from collections import Counter"
   ]
  },
  {
   "cell_type": "code",
   "execution_count": null,
   "id": "2482ede2-1749-4e4c-a850-5adc30751436",
   "metadata": {
    "tags": []
   },
   "outputs": [],
   "source": [
    "NearMiss_obj = NearMiss()\n",
    "new_x , new_y = NearMiss_obj.fit_resample(x,y)\n",
    "print('Original: {}'.format(Counter(y))) \n",
    "print('NearMiss: {}'.format(Counter(new_y))) "
   ]
  },
  {
   "cell_type": "markdown",
   "id": "0e8823e2-855b-4f5d-b2c9-e270bb3a92ce",
   "metadata": {},
   "source": [
    "Originally, our dataset had a lot more \"No\" samples (292,422) compared to \"Yes\" samples (27,373).we used Nearmiss to even the target variable. It did by trimming down the larger group (\"No\") to match the size of the smaller group (\"Yes\"). So after applying NearMiss, we ended up with 27,373 samples in both groups."
   ]
  },
  {
   "cell_type": "code",
   "execution_count": null,
   "id": "58dd29a5-1b2a-459d-a8f6-6947f446f64b",
   "metadata": {
    "tags": []
   },
   "outputs": [],
   "source": [
    "new_y"
   ]
  },
  {
   "cell_type": "markdown",
   "id": "6cb86da8-d13e-4182-b8d8-d9b4f51750a9",
   "metadata": {},
   "source": [
    "Checking the Value Counts of the New Target Variable"
   ]
  },
  {
   "cell_type": "markdown",
   "id": "ce13fff1-940d-4940-b35f-4a0b90ec5a35",
   "metadata": {
    "tags": []
   },
   "source": [
    " ## 5.6 Combining the Resampled Data"
   ]
  },
  {
   "cell_type": "code",
   "execution_count": null,
   "id": "5e39ef87-642c-424d-be12-8f7ff79c75cf",
   "metadata": {
    "tags": []
   },
   "outputs": [],
   "source": [
    "df2=pd.DataFrame(new_x)\n",
    "df3=pd.DataFrame(new_y)\n",
    "df4=pd.concat([df2,df3],axis=1)\n",
    "df4"
   ]
  },
  {
   "cell_type": "markdown",
   "id": "ab36dc35-30c4-4d23-bca9-cb87aadd4ce7",
   "metadata": {
    "tags": []
   },
   "source": [
    "## 5.7 Feature Selection"
   ]
  },
  {
   "cell_type": "code",
   "execution_count": null,
   "id": "d0572081-91a6-4c0a-aabb-45cea45b7bac",
   "metadata": {
    "tags": []
   },
   "outputs": [],
   "source": [
    "from sklearn.feature_selection import SelectKBest, f_classif, chi2, f_regression #chi2 only when features are non negative"
   ]
  },
  {
   "cell_type": "code",
   "execution_count": null,
   "id": "3d6d7615-f37a-466e-913f-077933495e24",
   "metadata": {
    "tags": []
   },
   "outputs": [],
   "source": [
    "model2 = SelectKBest(score_func=f_classif)"
   ]
  },
  {
   "cell_type": "code",
   "execution_count": null,
   "id": "dbfa33ee-d2ba-475e-9e24-ae4142322aa3",
   "metadata": {
    "tags": []
   },
   "outputs": [],
   "source": [
    "feature_score = model2.fit(new_x,new_y)"
   ]
  },
  {
   "cell_type": "code",
   "execution_count": null,
   "id": "4b4ff508-78cf-4f73-bace-ea9ea820c66f",
   "metadata": {
    "tags": []
   },
   "outputs": [],
   "source": [
    "feature_score.scores_"
   ]
  },
  {
   "cell_type": "code",
   "execution_count": null,
   "id": "5b6b2e3a-39cc-4d24-84ee-0f73327ad16c",
   "metadata": {
    "tags": []
   },
   "outputs": [],
   "source": [
    "cols = pd.DataFrame(feature_score.scores_ , columns=['Feature_Scores'])\n",
    "col2 = pd.DataFrame(new_x.columns, columns=['Feature_Names'])\n",
    "scores = pd.concat([col2,cols],axis=1)\n",
    "new = scores.nlargest(18,'Feature_Scores')\n",
    "new"
   ]
  },
  {
   "cell_type": "code",
   "execution_count": null,
   "id": "317cf4df-3892-455a-a5f9-cdd0ba468805",
   "metadata": {
    "tags": []
   },
   "outputs": [],
   "source": [
    "plt.figure(figsize=(15,10))\n",
    "sns.barplot(x='Feature_Scores',y='Feature_Names',data=new)\n",
    "plt.title('Feature ranking using SelectKBest classifier',fontsize=18)"
   ]
  },
  {
   "cell_type": "markdown",
   "id": "2f30c998-f924-48b9-b3f1-733771847dc7",
   "metadata": {
    "tags": []
   },
   "source": [
    "## 5.8 FEATURE SCALING "
   ]
  },
  {
   "cell_type": "code",
   "execution_count": null,
   "id": "8a37916e-ebb6-4591-a4da-6c7d4db6e893",
   "metadata": {
    "tags": []
   },
   "outputs": [],
   "source": [
    "\n",
    "from sklearn.preprocessing import MinMaxScaler"
   ]
  },
  {
   "cell_type": "code",
   "execution_count": null,
   "id": "de1bb9e9-676f-4f10-8970-54e7efaf3d88",
   "metadata": {
    "tags": []
   },
   "outputs": [],
   "source": [
    "mmx = MinMaxScaler() "
   ]
  },
  {
   "cell_type": "code",
   "execution_count": null,
   "id": "e4cf35f5-0b72-4223-88e1-d02f7cfc56af",
   "metadata": {
    "tags": []
   },
   "outputs": [],
   "source": [
    "scaled_x = mmx.fit_transform(new_x)"
   ]
  },
  {
   "cell_type": "code",
   "execution_count": null,
   "id": "cda12bde-2fd9-41d2-a6cd-85a5e4f38f5b",
   "metadata": {
    "tags": []
   },
   "outputs": [],
   "source": [
    "from sklearn.decomposition import PCA"
   ]
  },
  {
   "cell_type": "markdown",
   "id": "dbee7ddd-5413-403c-9b4a-91875bd7ff44",
   "metadata": {
    "tags": []
   },
   "source": [
    "## 5.9 Applying PCA for Dimensionality Reduction"
   ]
  },
  {
   "cell_type": "code",
   "execution_count": null,
   "id": "1ae02333-6fad-4f70-8317-9bab193e6fc2",
   "metadata": {
    "tags": []
   },
   "outputs": [],
   "source": [
    "pca = PCA(n_components=3)\n",
    "x_pca = pca.fit_transform(scaled_x)"
   ]
  },
  {
   "cell_type": "code",
   "execution_count": null,
   "id": "a11655ec-3505-430a-921b-54f019662d38",
   "metadata": {
    "tags": []
   },
   "outputs": [],
   "source": [
    "x_pca"
   ]
  },
  {
   "cell_type": "code",
   "execution_count": null,
   "id": "118682e0-e801-4526-b5c8-f66aa9c7728a",
   "metadata": {
    "tags": []
   },
   "outputs": [],
   "source": [
    "features = pd.DataFrame(x_pca, columns=['pca1','pca2','pca3'])"
   ]
  },
  {
   "cell_type": "code",
   "execution_count": null,
   "id": "43a8c1fa-2d1a-4ee6-834d-b223c82faee0",
   "metadata": {
    "tags": []
   },
   "outputs": [],
   "source": [
    "pip install plotly"
   ]
  },
  {
   "cell_type": "code",
   "execution_count": null,
   "id": "69b55721-39a3-4bdd-97d4-cadbdf0b8473",
   "metadata": {
    "tags": []
   },
   "outputs": [],
   "source": [
    "import plotly.express as pl\n",
    "pl.scatter_3d(features, x='pca1',y='pca2',z='pca3', color='pca1')"
   ]
  },
  {
   "cell_type": "markdown",
   "id": "d5dd357e-b3e7-450e-b9e5-01838422ab90",
   "metadata": {
    "jp-MarkdownHeadingCollapsed": true,
    "tags": []
   },
   "source": [
    "## 5.10 Split Dataset into Train and Test"
   ]
  },
  {
   "cell_type": "code",
   "execution_count": null,
   "id": "7e40bf7e-1f34-4fec-94e5-6004291dae95",
   "metadata": {
    "tags": []
   },
   "outputs": [],
   "source": [
    "from sklearn.model_selection import train_test_split"
   ]
  },
  {
   "cell_type": "code",
   "execution_count": null,
   "id": "e066339b-08c1-4db8-971c-f70270268939",
   "metadata": {
    "tags": []
   },
   "outputs": [],
   "source": [
    "xtrain,xtest,ytrain,ytest=train_test_split(new_x,new_y,train_size=0.75,random_state=42)"
   ]
  },
  {
   "cell_type": "code",
   "execution_count": null,
   "id": "bdbf3a90-6b3d-4d44-a718-0ef5912aac03",
   "metadata": {
    "tags": []
   },
   "outputs": [],
   "source": [
    "xtest.head()"
   ]
  },
  {
   "cell_type": "code",
   "execution_count": null,
   "id": "4fec27bd-5f1a-404e-8160-1fca11ff3ea9",
   "metadata": {
    "tags": []
   },
   "outputs": [],
   "source": [
    "ytest.head()"
   ]
  },
  {
   "cell_type": "markdown",
   "id": "b032a807-ded2-418e-9c56-749a8123fea1",
   "metadata": {
    "tags": []
   },
   "source": [
    "# 6. Building Machine Learning Models"
   ]
  },
  {
   "cell_type": "code",
   "execution_count": null,
   "id": "0e256f92-61ab-4501-8ad3-428095b0aa26",
   "metadata": {
    "tags": []
   },
   "outputs": [],
   "source": [
    "from sklearn.linear_model import LogisticRegression\n",
    "from sklearn.ensemble import GradientBoostingClassifier,RandomForestClassifier\n",
    "from sklearn.naive_bayes import GaussianNB\n",
    "import tensorflow as tf\n",
    "from tensorflow.keras.models import Sequential\n",
    "from tensorflow.keras.layers import Dense\n",
    "from sklearn.preprocessing import StandardScaler\n",
    "from sklearn.model_selection import GridSearchCV\n",
    "from sklearn.metrics import classification_report,accuracy_score, precision_score, recall_score, f1_score, confusion_matrix, roc_auc_score, roc_curve\n",
    "import matplotlib.pyplot as plt\n",
    "import warnings\n",
    "warnings.filterwarnings('ignore')"
   ]
  },
  {
   "cell_type": "markdown",
   "id": "fb9e8984-7792-4e2d-a088-65b92b1cdd28",
   "metadata": {
    "tags": []
   },
   "source": [
    "## 6.1 Logistic Regression"
   ]
  },
  {
   "cell_type": "markdown",
   "id": "7adee7b3-6fa9-49cc-98fa-9c9dc7169a82",
   "metadata": {},
   "source": [
    "### 6.1.1 Logistic Regression on Resampled Data"
   ]
  },
  {
   "cell_type": "code",
   "execution_count": null,
   "id": "9f8ec760-d445-4cf7-bd1c-1977e1e3432e",
   "metadata": {
    "tags": []
   },
   "outputs": [],
   "source": [
    "\n",
    "# 1. Train the model\n",
    "#log = LogisticRegression(max_iter=1000)\n",
    "log = LogisticRegression()\n",
    "log.fit(xtrain, ytrain)\n",
    "\n",
    "# 2. Make predictions\n",
    "y_pred = log.predict(xtest)\n",
    "\n",
    "# 3. Evaluate\n",
    "print(\"Accuracy:\", accuracy_score(ytest, y_pred))\n",
    "print(\"Precision:\", precision_score(ytest, y_pred))\n",
    "print(\"Recall:\", recall_score(ytest, y_pred))\n",
    "print(\"F1 Score:\", f1_score(ytest, y_pred))\n",
    "print(\"Confusion Matrix:\\n\", confusion_matrix(ytest, y_pred))\n",
    "\n",
    "# ROC Curve\n",
    "y_prob = log.predict_proba(xtest)[:,1]\n",
    "fpr, tpr, thresholds = roc_curve(ytest, y_prob)\n",
    "\n",
    "# Plot the ROC curve\n",
    "plt.figure(figsize=(10, 7))\n",
    "plt.plot(fpr, tpr, label=f'ROC AUC = {roc_auc_score(ytest, y_prob):.2f}')\n",
    "plt.plot([0, 1], [0, 1], 'r--')\n",
    "plt.xlabel('False Positive Rate')\n",
    "plt.ylabel('True Positive Rate')\n",
    "plt.title('Receiver Operating Characteristic (ROC) Curve')\n",
    "plt.legend(loc='lower right')\n",
    "plt.show()\n",
    "\n",
    "print(\"ROC AUC Score:\", roc_auc_score(ytest, y_prob))\n"
   ]
  },
  {
   "cell_type": "markdown",
   "id": "c221487f-ee80-4e82-b145-9c42b144610f",
   "metadata": {},
   "source": [
    "### 6.1.2 Logistic Regression using PCA"
   ]
  },
  {
   "cell_type": "code",
   "execution_count": null,
   "id": "907a0e52-4244-4fd5-b30e-a8d2d562d23d",
   "metadata": {
    "tags": []
   },
   "outputs": [],
   "source": [
    "# Splitting the data\n",
    "xtrain_pca, xtest_pca, ytrain_pca, ytest_pca = train_test_split(x_pca, new_y, train_size=0.75, random_state=42)\n",
    "\n",
    "# Train the model\n",
    "log_pca = LogisticRegression()\n",
    "log_pca.fit(xtrain_pca, ytrain_pca)\n",
    "\n",
    "# Predict and Evaluate\n",
    "y_pred_pca = log_pca.predict(xtest_pca)\n",
    "print(\"Model using PCA-transformed features:\")\n",
    "print(\"Accuracy:\", accuracy_score(ytest_pca, y_pred_pca))\n",
    "print(\"Precision:\", precision_score(ytest_pca, y_pred_pca))\n",
    "print(\"Recall:\", recall_score(ytest_pca, y_pred_pca))\n",
    "print(\"F1 Score:\", f1_score(ytest_pca, y_pred_pca))\n"
   ]
  },
  {
   "cell_type": "markdown",
   "id": "7f73ff37-5dc1-4318-9061-bc4c1f228320",
   "metadata": {},
   "source": [
    "### 6.1.2 Logistic Regression using Selectkbest"
   ]
  },
  {
   "cell_type": "code",
   "execution_count": null,
   "id": "3796ebb6-6f35-4716-a911-137bc6474af9",
   "metadata": {
    "tags": []
   },
   "outputs": [],
   "source": [
    "selected_features_skb = new['Feature_Names'].tolist()\n",
    "x_selected_skb = new_x[selected_features_skb]\n",
    "\n",
    "# Splitting the data\n",
    "xtrain_skb, xtest_skb, ytrain_skb, ytest_skb = train_test_split(x_selected_skb, new_y, train_size=0.75, random_state=42)\n",
    "\n",
    "# Train the model\n",
    "log_skb = LogisticRegression()\n",
    "log_skb.fit(xtrain_skb, ytrain_skb)\n",
    "\n",
    "# Predict and Evaluate\n",
    "y_pred_skb = log_skb.predict(xtest_skb)\n",
    "print(\"\\nModel using features selected by SelectKBest:\")\n",
    "print(\"Accuracy:\", accuracy_score(ytest_skb, y_pred_skb))\n",
    "print(\"Precision:\", precision_score(ytest_skb, y_pred_skb))\n",
    "print(\"Recall:\", recall_score(ytest_skb, y_pred_skb))\n",
    "print(\"F1 Score:\", f1_score(ytest_skb, y_pred_skb))\n"
   ]
  },
  {
   "cell_type": "code",
   "execution_count": null,
   "id": "c3b3a7ea-f90a-430d-a3f3-1a9e242b0c1a",
   "metadata": {
    "tags": []
   },
   "outputs": [],
   "source": [
    "pred_log=log.predict(xtest)\n",
    "pred_log_pca=log_pca.predict(xtest_pca)\n",
    "pred_log_skb=log_skb.predict(xtest_skb)"
   ]
  },
  {
   "cell_type": "code",
   "execution_count": null,
   "id": "5baeb073-cc16-41e8-abd8-36787d21ab3a",
   "metadata": {},
   "outputs": [],
   "source": [
    "print(\"Report of Logistic Regression:\\n\\n\",classification_report(ytest, pred_log))\n",
    "print(\"Report of Logistic Regression using PCA:\\n\\n\",classification_report(ytest, pred_log_pca))\n",
    "print(\"Report of Logistic Regression using Selectkbest:\\n\\n\",classification_report(ytest, pred_log_skb))"
   ]
  },
  {
   "cell_type": "markdown",
   "id": "bbb4288d-1a68-4dc9-a897-8130c312c167",
   "metadata": {
    "tags": []
   },
   "source": [
    "## 6.2 Gradient Boost"
   ]
  },
  {
   "cell_type": "markdown",
   "id": "83070837-88d3-491e-bffa-6bd6ddb4225b",
   "metadata": {},
   "source": [
    "### 6.2.1 Gradient Boost on Resampled Data"
   ]
  },
  {
   "cell_type": "code",
   "execution_count": null,
   "id": "01b77fb2-cdd3-4eb3-b11b-d133320763ea",
   "metadata": {
    "tags": []
   },
   "outputs": [],
   "source": [
    "gb = GradientBoostingClassifier(learning_rate=0.3)\n",
    "gb.fit(xtrain, ytrain)\n",
    "y_pred_gbhyp = gb.predict(xtest)\n",
    "print(\"Accuracy for Gradient Boosting:\", accuracy_score(ytest, y_pred_gbhyp))\n",
    "print(\"Precision for Gradient Boosting:\", precision_score(ytest, y_pred_gbhyp))\n",
    "print(\"Recall for Gradient Boosting:\", recall_score(ytest, y_pred_gbhyp))\n",
    "print(\"F1 Score for Gradient Boosting:\", f1_score(ytest, y_pred_gbhyp))\n",
    "print(\"Confusion Matrix for Gradient Boosting:\\n\", confusion_matrix(ytest, y_pred_gbhyp))\n",
    "y_prob_gbhyp = gb.predict_proba(xtest)[:,1]\n",
    "fpr_gb, tpr_gb, thresholds_gb = roc_curve(ytest, y_prob_gbhyp)\n",
    "plt.plot(fpr_gb, tpr_gb)\n",
    "plt.xlabel('False Positive Rate')\n",
    "plt.ylabel('True Positive Rate')\n",
    "plt.title('ROC Curve - Gradient Boosting')\n",
    "plt.show()\n",
    "\n",
    "print(\"ROC AUC Score for Gradient Boosting:\", roc_auc_score(ytest, y_prob_gbhyp))\n",
    "\n"
   ]
  },
  {
   "cell_type": "markdown",
   "id": "b4fb80e6-64b6-4e93-8fdd-41b5ee95271d",
   "metadata": {},
   "source": [
    "### 6.2.2 Gradient Boost Using PCA"
   ]
  },
  {
   "cell_type": "code",
   "execution_count": null,
   "id": "855f8523-e02f-4c7c-ab1b-56ad2927f890",
   "metadata": {
    "tags": []
   },
   "outputs": [],
   "source": [
    "from sklearn.ensemble import GradientBoostingClassifier\n",
    "\n",
    "# Splitting the data\n",
    "xtrain_pca, xtest_pca, ytrain_pca, ytest_pca = train_test_split(x_pca, new_y, train_size=0.75, random_state=42)\n",
    "\n",
    "# Train the model\n",
    "gb_pca = GradientBoostingClassifier()\n",
    "gb_pca.fit(xtrain_pca, ytrain_pca)\n",
    "\n",
    "# Predict and Evaluate\n",
    "y_pred_pca = gb_pca.predict(xtest_pca)\n",
    "print(\"Model using PCA-transformed features:\")\n",
    "print(\"Accuracy:\", accuracy_score(ytest_pca, y_pred_pca))\n",
    "print(\"Precision:\", precision_score(ytest_pca, y_pred_pca))\n",
    "print(\"Recall:\", recall_score(ytest_pca, y_pred_pca))\n",
    "print(\"F1 Score:\", f1_score(ytest_pca, y_pred_pca))\n"
   ]
  },
  {
   "cell_type": "markdown",
   "id": "dbfeb45e-a36e-41a8-9f14-d59d0811d136",
   "metadata": {},
   "source": [
    "### 6.2.3 Gradient Boost Using Seleckbest"
   ]
  },
  {
   "cell_type": "code",
   "execution_count": null,
   "id": "976a0d85-b126-48dc-a4a0-49c09599e143",
   "metadata": {
    "tags": []
   },
   "outputs": [],
   "source": [
    "selected_features_skb = new['Feature_Names'].tolist()\n",
    "x_selected_skb = new_x[selected_features_skb]\n",
    "\n",
    "# Splitting the data\n",
    "xtrain_skb, xtest_skb, ytrain_skb, ytest_skb = train_test_split(x_selected_skb, new_y, train_size=0.75, random_state=42)\n",
    "\n",
    "# Train the model\n",
    "gb_skb = GradientBoostingClassifier()\n",
    "gb_skb.fit(xtrain_skb, ytrain_skb)\n",
    "\n",
    "# Predict and Evaluate\n",
    "y_pred_skb = gb_skb.predict(xtest_skb)\n",
    "print(\"\\nModel using features selected by SelectKBest:\")\n",
    "print(\"Accuracy:\", accuracy_score(ytest_skb, y_pred_skb))\n",
    "print(\"Precision:\", precision_score(ytest_skb, y_pred_skb))\n",
    "print(\"Recall:\", recall_score(ytest_skb, y_pred_skb))\n",
    "print(\"F1 Score:\", f1_score(ytest_skb, y_pred_skb))\n"
   ]
  },
  {
   "cell_type": "code",
   "execution_count": null,
   "id": "96c85270-12cb-446f-acf7-7b8d968be9f9",
   "metadata": {
    "tags": []
   },
   "outputs": [],
   "source": [
    "pred_gb=gb.predict(xtest)\n",
    "pred_gb_hyp=y_pred_gbhyp\n",
    "pred_gb_pca=gb_pca.predict(xtest_pca)\n",
    "pred_gb_skb=gb_skb.predict(xtest_skb)"
   ]
  },
  {
   "cell_type": "code",
   "execution_count": null,
   "id": "814183d2-6496-45a2-84f5-ba97e7787d66",
   "metadata": {
    "tags": []
   },
   "outputs": [],
   "source": [
    "print(\"Report of Gradient Boost:\\n\\n\",classification_report(ytest, pred_gb))\n",
    "print(\"Report of Gradient Boost using Hyperparameter Tuning:\\n\\n\",classification_report(ytest, pred_gb_hyp))\n",
    "print(\"Report of Gradient Boost using PCA:\\n\\n\",classification_report(ytest, pred_gb_pca))\n",
    "print(\"Report of Gradient Boost using Selectkbest:\\n\\n\",classification_report(ytest, pred_gb_skb))"
   ]
  },
  {
   "cell_type": "markdown",
   "id": "dcb23ea1-a9f4-49a7-8c7e-8c339ce2089d",
   "metadata": {
    "tags": []
   },
   "source": [
    "## 6.3 Random Forest"
   ]
  },
  {
   "cell_type": "markdown",
   "id": "a7149817-7aaa-4daa-91a7-af6f7e9ce678",
   "metadata": {},
   "source": [
    "### 6.3.1 Random Forest on sampled data"
   ]
  },
  {
   "cell_type": "code",
   "execution_count": null,
   "id": "3510a7d5-fc9b-4f0a-bada-ef3c1aefc4c5",
   "metadata": {
    "tags": []
   },
   "outputs": [],
   "source": [
    "# 1. Train the model\n",
    "rf = RandomForestClassifier()\n",
    "rf.fit(xtrain, ytrain)\n",
    "\n",
    "# 2. Make predictions\n",
    "y_pred_rf = rf.predict(xtest)\n",
    "\n",
    "# 3. Evaluate\n",
    "print(\"Accuracy for Random Forest:\", accuracy_score(ytest, y_pred_rf))\n",
    "print(\"Precision for Random Forest:\", precision_score(ytest, y_pred_rf))\n",
    "print(\"Recall for Random Forest:\", recall_score(ytest, y_pred_rf))\n",
    "print(\"F1 Score for Random Forest:\", f1_score(ytest, y_pred_rf))\n",
    "print(\"Confusion Matrix for Random Forest:\\n\", confusion_matrix(ytest, y_pred_rf))\n",
    "\n",
    "# ROC Curve for Random Forest\n",
    "y_prob_rf = rf.predict_proba(xtest)[:,1]\n",
    "fpr_rf, tpr_rf, thresholds_rf = roc_curve(ytest, y_prob_rf)\n",
    "plt.plot(fpr_rf, tpr_rf)\n",
    "plt.xlabel('False Positive Rate')\n",
    "plt.ylabel('True Positive Rate')\n",
    "plt.title('ROC Curve - Random Forest')\n",
    "plt.show()\n",
    "\n",
    "print(\"ROC AUC Score for Random Forest:\", roc_auc_score(ytest, y_prob_rf))\n"
   ]
  },
  {
   "cell_type": "markdown",
   "id": "a3968655-08b7-46fa-8f95-e4551e0cf129",
   "metadata": {
    "tags": []
   },
   "source": [
    "### 6.3.2 Random Forest using PCA"
   ]
  },
  {
   "cell_type": "code",
   "execution_count": null,
   "id": "de9b7276-ab22-47f3-9555-2a18dc553de9",
   "metadata": {
    "tags": []
   },
   "outputs": [],
   "source": [
    "\n",
    "# Splitting PCA transformed data again\n",
    "xtrain_pca, xtest_pca, ytrain_pca, ytest_pca = train_test_split(x_pca, new_y, train_size=0.75, random_state=42)\n",
    "\n",
    "# 1. Train the model on PCA data\n",
    "rf_pca = RandomForestClassifier(random_state=42)\n",
    "rf_pca.fit(xtrain_pca, ytrain_pca)\n",
    "\n",
    "# 2. Make predictions\n",
    "y_pred_rf_pca = rf_pca.predict(xtest_pca)\n",
    "\n",
    "# 3. Evaluate\n",
    "results = {\n",
    "    \"Accuracy\": accuracy_score(ytest_pca, y_pred_rf_pca),\n",
    "    \"Precision\": precision_score(ytest_pca, y_pred_rf_pca),\n",
    "    \"Recall\": recall_score(ytest_pca, y_pred_rf_pca),\n",
    "    \"F1 Score\": f1_score(ytest_pca, y_pred_rf_pca),\n",
    "    \"Confusion Matrix\": confusion_matrix(ytest_pca, y_pred_rf_pca)\n",
    "}\n",
    "\n",
    "# ROC Curve for Random Forest on PCA data\n",
    "y_prob_rf_pca = rf_pca.predict_proba(xtest_pca)[:,1]\n",
    "fpr_rf_pca, tpr_rf_pca, thresholds_rf_pca = roc_curve(ytest_pca, y_prob_rf_pca)\n",
    "\n",
    "plt.figure(figsize=(8, 6))\n",
    "plt.plot(fpr_rf_pca, tpr_rf_pca, label='Random Forest (area = {:.2f})'.format(roc_auc_score(ytest_pca, y_prob_rf_pca)))\n",
    "plt.xlabel('False Positive Rate')\n",
    "plt.ylabel('True Positive Rate')\n",
    "plt.title('ROC Curve - Random Forest on PCA data')\n",
    "plt.legend(loc='best')\n",
    "plt.show()\n",
    "\n",
    "roc_auc = roc_auc_score(ytest_pca, y_prob_rf_pca)\n",
    "\n",
    "results, roc_auc\n"
   ]
  },
  {
   "cell_type": "markdown",
   "id": "0fb256b6-a905-4469-8a1e-d0bed1ed73e1",
   "metadata": {},
   "source": [
    "### 6.3.3 Random Forset USing GridsearchCV"
   ]
  },
  {
   "cell_type": "code",
   "execution_count": null,
   "id": "ca3ebfb9-92b9-47b1-a7db-86a5c69ba56d",
   "metadata": {
    "tags": []
   },
   "outputs": [],
   "source": [
    "param_grid = {\n",
    "    'n_estimators': [50, 100, 200],\n",
    "    'max_depth': [None, 10, 20, 30],\n",
    "    'min_samples_split': [2, 5, 10]\n",
    "}\n",
    "rf = RandomForestClassifier()\n",
    "grid_search = GridSearchCV(rf, param_grid, cv=5, scoring='accuracy', verbose=1, n_jobs=-1)\n",
    "grid_search.fit(xtrain, ytrain)\n",
    "best_rf = grid_search.best_estimator_\n",
    "y_pred_rf = best_rf.predict(xtest)\n",
    "print(\"Accuracy for Random Forest:\", accuracy_score(ytest, y_pred_rf))\n",
    "print(\"Precision for Random Forest:\", precision_score(ytest, y_pred_rf))\n",
    "print(\"Recall for Random Forest:\", recall_score(ytest, y_pred_rf))\n",
    "print(\"F1 Score for Random Forest:\", f1_score(ytest, y_pred_rf))\n",
    "print(\"Confusion Matrix for Random Forest:\\n\", confusion_matrix(ytest, y_pred_rf))\n",
    "y_prob_rf = best_rf.predict_proba(xtest)[:,1]\n",
    "fpr_rf, tpr_rf, thresholds_rf = roc_curve(ytest, y_prob_rf)\n",
    "plt.plot(fpr_rf, tpr_rf)\n",
    "plt.xlabel('False Positive Rate')\n",
    "plt.ylabel('True Positive Rate')\n",
    "plt.title('ROC Curve - Random Forest')\n",
    "plt.show()\n",
    "\n",
    "print(\"ROC AUC Score for Random Forest:\", roc_auc_score(ytest, y_prob_rf))\n"
   ]
  },
  {
   "cell_type": "markdown",
   "id": "e47240d9-ed61-46bd-adfb-4758dd249451",
   "metadata": {
    "tags": []
   },
   "source": [
    "## 6.4 Deep Learning"
   ]
  },
  {
   "cell_type": "markdown",
   "id": "bbfaf037-94b3-4051-aa84-12b7a87e661e",
   "metadata": {
    "tags": []
   },
   "source": [
    "### 6.4.1 Deep Learning on Resampled Data"
   ]
  },
  {
   "cell_type": "code",
   "execution_count": null,
   "id": "141bd1d5-79c5-4bcd-838a-82de3e0e8c78",
   "metadata": {},
   "outputs": [],
   "source": [
    "\n",
    "model = Sequential()\n",
    "model.add(Dense(128, activation='relu', input_shape=(xtrain.shape[1],)))  # Input layer\n",
    "model.add(Dense(64, activation='relu'))  # Hidden layer\n",
    "model.add(Dense(1, activation='sigmoid'))  # Output layer for binary classification\n",
    "\n",
    "model.compile(optimizer='adam', loss='binary_crossentropy', metrics=['accuracy'])\n",
    "\n",
    "model.fit(xtrain, ytrain, epochs=10, batch_size=32, validation_data=(xtest, ytest))\n",
    "\n",
    "y_pred_dl = model.predict(xtest)\n",
    "y_pred_dl_class = (y_pred_dl > 0.5).astype(int).flatten()\n",
    "\n",
    "print(\"Accuracy for Deep Learning Model:\", accuracy_score(ytest, y_pred_dl_class))\n",
    "print(\"Precision for Deep Learning Model:\", precision_score(ytest, y_pred_dl_class))\n",
    "print(\"Recall for Deep Learning Model:\", recall_score(ytest, y_pred_dl_class))\n",
    "print(\"F1 Score for Deep Learning Model:\", f1_score(ytest, y_pred_dl_class))\n",
    "print(\"Confusion Matrix for Deep Learning Model:\\n\", confusion_matrix(ytest, y_pred_dl_class))\n",
    "\n",
    "\n",
    "fpr_dl, tpr_dl, thresholds_dl = roc_curve(ytest, y_pred_dl)\n",
    "plt.plot(fpr_dl, tpr_dl)\n",
    "plt.xlabel('False Positive Rate')\n",
    "plt.ylabel('True Positive Rate')\n",
    "plt.title('ROC Curve - Deep Learning Model')\n",
    "plt.show()\n",
    "\n",
    "print(\"ROC AUC Score for Deep Learning Model:\", roc_auc_score(ytest, y_pred_dl))\n",
    "\n"
   ]
  },
  {
   "cell_type": "markdown",
   "id": "121d7c1a-4dfb-4ae4-83c9-a390b21e60f5",
   "metadata": {
    "tags": []
   },
   "source": [
    "### 6.4.2 Deep Learning using PCA"
   ]
  },
  {
   "cell_type": "code",
   "execution_count": null,
   "id": "dc621690-d101-40e8-8f92-6fdd85402dd9",
   "metadata": {
    "tags": []
   },
   "outputs": [],
   "source": [
    "\n",
    "\n",
    "model_pca = Sequential()\n",
    "model_pca.add(Dense(128, activation='relu', input_shape=(xtrain_pca.shape[1],)))  # Input layer\n",
    "model_pca.add(Dense(64, activation='relu'))  # Hidden layer\n",
    "model_pca.add(Dense(1, activation='sigmoid'))  # Output layer for binary classification\n",
    "model_pca.compile(optimizer='adam', loss='binary_crossentropy', metrics=['accuracy'])\n",
    "model_pca.fit(xtrain_pca, ytrain, epochs=10, batch_size=32, validation_data=(xtest_pca, ytest))\n",
    "y_pred_dl_pca = model_pca.predict(xtest_pca)\n",
    "y_pred_dl_class_pca = (y_pred_dl_pca > 0.5).astype(int).flatten()\n",
    "\n",
    "print(\"Accuracy for Deep Learning Model with PCA:\", accuracy_score(ytest, y_pred_dl_class_pca))\n",
    "print(\"Precision for Deep Learning Model with PCA:\", precision_score(ytest, y_pred_dl_class_pca))\n",
    "print(\"Recall for Deep Learning Model with PCA:\", recall_score(ytest, y_pred_dl_class_pca))\n",
    "print(\"F1 Score for Deep Learning Model with PCA:\", f1_score(ytest, y_pred_dl_class_pca))\n",
    "print(\"Confusion Matrix for Deep Learning Model with PCA:\\n\", confusion_matrix(ytest, y_pred_dl_class_pca))\n",
    "fpr_dl_pca, tpr_dl_pca, thresholds_dl_pca = roc_curve(ytest, y_pred_dl_pca)\n",
    "\n",
    "plt.figure(figsize=(10, 7))\n",
    "plt.plot(fpr_dl_pca, tpr_dl_pca, label=f'ROC AUC with PCA = {roc_auc_score(ytest, y_pred_dl_pca):.2f}')\n",
    "plt.plot([0, 1], [0, 1], 'r--')\n",
    "plt.xlabel('False Positive Rate')\n",
    "plt.ylabel('True Positive Rate')\n",
    "plt.title('Receiver Operating Characteristic (ROC) Curve for Deep Learning Model with PCA')\n",
    "plt.legend(loc='lower right')\n",
    "plt.show()\n"
   ]
  },
  {
   "cell_type": "markdown",
   "id": "912b2cf2-9f6c-432d-b211-e7e724adefbf",
   "metadata": {},
   "source": [
    "### 6.4.3 Deep Learning Using Selectkbest"
   ]
  },
  {
   "cell_type": "code",
   "execution_count": null,
   "id": "74fcdbe2-3e59-4c99-8eb0-eb85d0e01a7a",
   "metadata": {
    "tags": []
   },
   "outputs": [],
   "source": [
    "selected_features = new['Feature_Names'].head(10).tolist()  # You can adjust the number of features if needed.\n",
    "x_selected_train = xtrain[selected_features]\n",
    "x_selected_test = xtest[selected_features]\n",
    "\n",
    "model_selected = Sequential()\n",
    "model_selected.add(Dense(128, activation='relu', input_shape=(x_selected_train.shape[1],)))  # Input layer\n",
    "model_selected.add(Dense(64, activation='relu'))  # Hidden layer\n",
    "model_selected.add(Dense(1, activation='sigmoid'))  # Output layer for binary classification\n",
    "model_selected.compile(optimizer='adam', loss='binary_crossentropy', metrics=['accuracy'])\n",
    "model_selected.fit(x_selected_train, ytrain, epochs=10, batch_size=32, validation_data=(x_selected_test, ytest))\n",
    "y_pred_dl_selected = model_selected.predict(x_selected_test)\n",
    "y_pred_dl_class_selected = (y_pred_dl_selected > 0.5).astype(int).flatten()\n",
    "\n",
    "print(\"Accuracy for Deep Learning Model with Selected Features:\", accuracy_score(ytest, y_pred_dl_class_selected))\n",
    "print(\"Precision for Deep Learning Model with Selected Features:\", precision_score(ytest, y_pred_dl_class_selected))\n",
    "print(\"Recall for Deep Learning Model with Selected Features:\", recall_score(ytest, y_pred_dl_class_selected))\n",
    "print(\"F1 Score for Deep Learning Model with Selected Features:\", f1_score(ytest, y_pred_dl_class_selected))\n",
    "print(\"Confusion Matrix for Deep Learning Model with Selected Features:\\n\", confusion_matrix(ytest, y_pred_dl_class_selected))\n",
    "fpr_dl_selected, tpr_dl_selected, thresholds_dl_selected = roc_curve(ytest, y_pred_dl_selected)\n",
    "\n",
    "plt.figure(figsize=(10, 7))\n",
    "plt.plot(fpr_dl_selected, tpr_dl_selected, label=f'ROC AUC with Selected Features = {roc_auc_score(ytest, y_pred_dl_selected):.2f}')\n",
    "plt.plot([0, 1], [0, 1], 'r--')\n",
    "plt.xlabel('False Positive Rate')\n",
    "plt.ylabel('True Positive Rate')\n",
    "plt.title('Receiver Operating Characteristic (ROC) Curve for Deep Learning Model with Selected Features')\n",
    "plt.legend(loc='lower right')\n",
    "plt.show()\n"
   ]
  },
  {
   "cell_type": "markdown",
   "id": "38f29583-8f9e-41ab-a101-b3303244abad",
   "metadata": {
    "tags": []
   },
   "source": [
    "## 6.5 Gaussian Naive Bayes"
   ]
  },
  {
   "cell_type": "markdown",
   "id": "dba2a7d9-4cce-4433-a19a-753c233412e6",
   "metadata": {},
   "source": [
    "### 6.5.1 Gaussian Naive Bayes on Resample data"
   ]
  },
  {
   "cell_type": "code",
   "execution_count": null,
   "id": "57372b9e-730f-4746-a7ed-b7832469ef14",
   "metadata": {
    "tags": []
   },
   "outputs": [],
   "source": [
    "\n",
    "\n",
    "# Initializing and training the Gaussian Naive Bayes classifier\n",
    "gnb = GaussianNB()\n",
    "gnb.fit(xtrain, ytrain)\n",
    "\n",
    "# Predicting the test set results\n",
    "y_pred_gnb = gnb.predict(xtest)\n",
    "\n",
    "# 3. Evaluate\n",
    "print(\"Accuracy for GNB:\", accuracy_score(ytest, y_pred_gnb))\n",
    "print(\"Precision for GNB:\", precision_score(ytest, y_pred_gnb))\n",
    "print(\"Recall for GNB:\", recall_score(ytest, y_pred_gnb))\n",
    "print(\"F1 Score for GNB:\", f1_score(ytest, y_pred_gnb))\n",
    "print(\"Confusion Matrix for GNB:\\n\", confusion_matrix(ytest, y_pred_gnb))\n",
    "\n",
    "# ROC Curve for GNB\n",
    "y_prob_gnb = gnb.predict_proba(xtest)[:,1]\n",
    "fpr_gnb, tpr_gnb, thresholds_gnb = roc_curve(ytest, y_prob_gnb)\n",
    "plt.plot(fpr_gnb, tpr_gnb)\n",
    "plt.xlabel('False Positive Rate')\n",
    "plt.ylabel('True Positive Rate')\n",
    "plt.title('ROC Curve - GNB')\n",
    "plt.show()\n",
    "\n",
    "print(\"ROC AUC Score for GNB:\", roc_auc_score(ytest, y_prob_gnb))"
   ]
  },
  {
   "cell_type": "markdown",
   "id": "e969c3e3-fec9-4f70-8511-3e734e1df327",
   "metadata": {},
   "source": [
    "### 6.5.2 Gaussian Naive Bayes Using PCA"
   ]
  },
  {
   "cell_type": "code",
   "execution_count": null,
   "id": "7baef205-cc11-4d2e-9e27-cf6d2b5c7d3b",
   "metadata": {
    "tags": []
   },
   "outputs": [],
   "source": [
    "xtrain_pca, xtest_pca, ytrain_pca, ytest_pca = train_test_split(x_pca, new_y, train_size=0.75, random_state=42)\n",
    "\n",
    "gnb = GaussianNB()\n",
    "gnb.fit(xtrain_pca, ytrain_pca)\n",
    "y_pred_gnb_pca = gnb.predict(xtest_pca)\n",
    "\n",
    "print(\"Accuracy for GNB with PCA:\", accuracy_score(ytest_pca, y_pred_gnb_pca))\n",
    "print(\"Precision for GNB with PCA:\", precision_score(ytest_pca, y_pred_gnb_pca))\n",
    "print(\"Recall for GNB with PCA:\", recall_score(ytest_pca, y_pred_gnb_pca))\n",
    "print(\"F1 Score for GNB with PCA:\", f1_score(ytest_pca, y_pred_gnb_pca))\n",
    "print(\"Confusion Matrix for GNB with PCA:\\n\", confusion_matrix(ytest_pca, y_pred_gnb_pca))\n",
    "y_prob_gnb_pca = gnb.predict_proba(xtest_pca)[:,1]\n",
    "fpr_gnb_pca, tpr_gnb_pca, thresholds_gnb_pca = roc_curve(ytest_pca, y_prob_gnb_pca)\n",
    "\n",
    "plt.figure(figsize=(10, 7))\n",
    "plt.plot(fpr_gnb_pca, tpr_gnb_pca, label=f'ROC AUC with PCA = {roc_auc_score(ytest_pca, y_prob_gnb_pca):.2f}')\n",
    "plt.plot([0, 1], [0, 1], 'r--')\n",
    "plt.xlabel('False Positive Rate')\n",
    "plt.ylabel('True Positive Rate')\n",
    "plt.title('Receiver Operating Characteristic (ROC) Curve for GNB with PCA')\n",
    "plt.legend(loc='lower right')\n",
    "plt.show()\n"
   ]
  },
  {
   "cell_type": "markdown",
   "id": "209c87bb-55a9-43a8-8ebc-b99ad77e721d",
   "metadata": {},
   "source": [
    "### 6.5.3 Gaussian Naive Bayes using Selectkbest"
   ]
  },
  {
   "cell_type": "code",
   "execution_count": null,
   "id": "58946767-cabb-4eae-a719-7566ebcb3607",
   "metadata": {
    "tags": []
   },
   "outputs": [],
   "source": [
    "selected_features = new['Feature_Names'].head(10).tolist()\n",
    "x_selected = df4[selected_features]\n",
    "xtrain_selected, xtest_selected, ytrain_selected, ytest_selected = train_test_split(x_selected, new_y, train_size=0.75, random_state=42)\n",
    "gnb_selected = GaussianNB()\n",
    "gnb_selected.fit(xtrain_selected, ytrain_selected)\n",
    "y_pred_gnb_selected = gnb_selected.predict(xtest_selected)\n",
    "\n",
    "print(\"Accuracy for GNB with Selected Features:\", accuracy_score(ytest_selected, y_pred_gnb_selected))\n",
    "print(\"Precision for GNB with Selected Features:\", precision_score(ytest_selected, y_pred_gnb_selected))\n",
    "print(\"Recall for GNB with Selected Features:\", recall_score(ytest_selected, y_pred_gnb_selected))\n",
    "print(\"F1 Score for GNB with Selected Features:\", f1_score(ytest_selected, y_pred_gnb_selected))\n",
    "print(\"Confusion Matrix for GNB with Selected Features:\\n\", confusion_matrix(ytest_selected, y_pred_gnb_selected))\n",
    "y_prob_gnb_selected = gnb_selected.predict_proba(xtest_selected)[:,1]\n",
    "fpr_gnb_selected, tpr_gnb_selected, thresholds_gnb_selected = roc_curve(ytest_selected, y_prob_gnb_selected)\n",
    "\n",
    "plt.figure(figsize=(10, 7))\n",
    "plt.plot(fpr_gnb_selected, tpr_gnb_selected, label=f'ROC AUC with Selected Features = {roc_auc_score(ytest_selected, y_prob_gnb_selected):.2f}')\n",
    "plt.plot([0, 1], [0, 1], 'r--')\n",
    "plt.xlabel('False Positive Rate')\n",
    "plt.ylabel('True Positive Rate')\n",
    "plt.title('Receiver Operating Characteristic (ROC) Curve for GNB with Selected Features')\n",
    "plt.legend(loc='lower right')\n",
    "plt.show()\n"
   ]
  },
  {
   "cell_type": "markdown",
   "id": "71815640-b0d4-4f5a-b1c6-610edcfafa0c",
   "metadata": {},
   "source": [
    "### 6.5.4 Gaussian Naive Bayes usingh GridsearchCV"
   ]
  },
  {
   "cell_type": "code",
   "execution_count": null,
   "id": "92da7bec-aa5d-4082-a17b-c17fa3930ed2",
   "metadata": {
    "tags": []
   },
   "outputs": [],
   "source": [
    "param_grid = {'var_smoothing': np.logspace(0,-9, num=100)}\n",
    "\n",
    "gnb = GaussianNB()\n",
    "grid_search = GridSearchCV(gnb, param_grid, scoring='accuracy', cv=5)\n",
    "grid_search.fit(xtrain_selected, ytrain_selected)\n",
    "best_gnb = grid_search.best_estimator_\n",
    "best_params = grid_search.best_params_\n",
    "y_pred_best_gnb = best_gnb.predict(xtest_selected)\n",
    "\n",
    "print(\"Accuracy for Best GNB:\", accuracy_score(ytest_selected, y_pred_best_gnb))\n",
    "print(\"Precision for Best GNB:\", precision_score(ytest_selected, y_pred_best_gnb))\n",
    "print(\"Recall for Best GNB:\", recall_score(ytest_selected, y_pred_best_gnb))\n",
    "print(\"F1 Score for Best GNB:\", f1_score(ytest_selected, y_pred_best_gnb))\n",
    "print(\"Confusion Matrix for Best GNB:\\n\", confusion_matrix(ytest_selected, y_pred_best_gnb))\n",
    "y_prob_best_gnb = best_gnb.predict_proba(xtest_selected)[:,1]\n",
    "fpr_best_gnb, tpr_best_gnb, thresholds_best_gnb = roc_curve(ytest_selected, y_prob_best_gnb)\n",
    "\n",
    "plt.figure(figsize=(10, 7))\n",
    "plt.plot(fpr_best_gnb, tpr_best_gnb, label=f'ROC AUC for Best GNB = {roc_auc_score(ytest_selected, y_prob_best_gnb):.2f}')\n",
    "plt.plot([0, 1], [0, 1], 'r--')\n",
    "plt.xlabel('False Positive Rate')\n",
    "plt.ylabel('True Positive Rate')\n",
    "plt.title('Receiver Operating Characteristic (ROC) Curve for Best GNB')\n",
    "plt.legend(loc='lower right')\n",
    "plt.show()\n"
   ]
  }
 ],
 "metadata": {
  "kernelspec": {
   "display_name": "Python 3 (ipykernel)",
   "language": "python",
   "name": "python3"
  },
  "language_info": {
   "codemirror_mode": {
    "name": "ipython",
    "version": 3
   },
   "file_extension": ".py",
   "mimetype": "text/x-python",
   "name": "python",
   "nbconvert_exporter": "python",
   "pygments_lexer": "ipython3",
   "version": "3.11.0"
  }
 },
 "nbformat": 4,
 "nbformat_minor": 5
}
